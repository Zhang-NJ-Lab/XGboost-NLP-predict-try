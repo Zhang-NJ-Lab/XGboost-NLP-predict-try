{
 "cells": [
  {
   "cell_type": "code",
   "execution_count": 1,
   "id": "653b0c70-1034-41ac-92e0-30682f840c07",
   "metadata": {},
   "outputs": [],
   "source": [
    "# video:   https://www.bilibili.com/video/BV1eR4y1H7EF?share_source=copy_web&vd_source=2591a9c2e8e224d8bd8e7145ff62deae"
   ]
  },
  {
   "cell_type": "code",
   "execution_count": 2,
   "id": "ba605ace-314f-4424-93b4-89c12c4daa14",
   "metadata": {},
   "outputs": [],
   "source": [
    "from nltk import data"
   ]
  },
  {
   "cell_type": "code",
   "execution_count": 3,
   "id": "ebe634b4-41ab-43ca-ae4f-f3dbc2a22dd8",
   "metadata": {},
   "outputs": [],
   "source": [
    "data.path.append(r'../nltk_data')"
   ]
  },
  {
   "cell_type": "code",
   "execution_count": 4,
   "id": "980d4e56-e0f9-4b14-8d45-bc6823311ef5",
   "metadata": {},
   "outputs": [],
   "source": [
    "import pandas as pd"
   ]
  },
  {
   "cell_type": "code",
   "execution_count": 5,
   "id": "35262e2a-aa69-4033-a455-3479474b0cb9",
   "metadata": {},
   "outputs": [],
   "source": [
    "import matplotlib.pyplot as plt"
   ]
  },
  {
   "cell_type": "code",
   "execution_count": 6,
   "id": "6b8854b9-5873-4db1-9f71-3ddcb951c4dc",
   "metadata": {},
   "outputs": [],
   "source": [
    "%matplotlib inline"
   ]
  },
  {
   "cell_type": "code",
   "execution_count": 7,
   "id": "164cebbc-146d-46f6-bb10-c48120d3cc84",
   "metadata": {},
   "outputs": [],
   "source": [
    "import re"
   ]
  },
  {
   "cell_type": "code",
   "execution_count": 8,
   "id": "19372043-7f36-4bbe-ab8d-57a32ce683a5",
   "metadata": {},
   "outputs": [],
   "source": [
    "import string"
   ]
  },
  {
   "cell_type": "code",
   "execution_count": 9,
   "id": "efd9aea0-a5ca-4eb9-bf0a-eef42933da82",
   "metadata": {},
   "outputs": [],
   "source": [
    "from nltk import word_tokenize"
   ]
  },
  {
   "cell_type": "code",
   "execution_count": 10,
   "id": "3fb62f53-01f7-4db0-82bc-1571bdb8e3eb",
   "metadata": {},
   "outputs": [],
   "source": [
    "from nltk.stem import WordNetLemmatizer"
   ]
  },
  {
   "cell_type": "code",
   "execution_count": 11,
   "id": "edffac15-7073-45f2-90aa-bcac8b3e8569",
   "metadata": {},
   "outputs": [],
   "source": [
    "from sklearn.feature_extraction.text import TfidfVectorizer"
   ]
  },
  {
   "cell_type": "code",
   "execution_count": 12,
   "id": "6450226f-b417-4c95-aaee-a85084fdff9d",
   "metadata": {},
   "outputs": [],
   "source": [
    "from collections import Counter"
   ]
  },
  {
   "cell_type": "code",
   "execution_count": 13,
   "id": "961af44b-f6ee-4364-91be-ae749f8c8260",
   "metadata": {},
   "outputs": [],
   "source": [
    "from pylab import *"
   ]
  },
  {
   "cell_type": "code",
   "execution_count": 14,
   "id": "44317c52-cbf1-4edf-a430-cda0c56447e1",
   "metadata": {},
   "outputs": [],
   "source": [
    "import nltk"
   ]
  },
  {
   "cell_type": "code",
   "execution_count": 15,
   "id": "e9265cbf-0064-4721-89c7-bee7b4598151",
   "metadata": {},
   "outputs": [],
   "source": [
    "import warnings\n",
    "warnings.filterwarnings('ignore')"
   ]
  },
  {
   "cell_type": "code",
   "execution_count": 16,
   "id": "9fce2f3a-7692-4a24-8e25-da69c62bce40",
   "metadata": {},
   "outputs": [
    {
     "data": {
      "text/html": [
       "<div>\n",
       "<style scoped>\n",
       "    .dataframe tbody tr th:only-of-type {\n",
       "        vertical-align: middle;\n",
       "    }\n",
       "\n",
       "    .dataframe tbody tr th {\n",
       "        vertical-align: top;\n",
       "    }\n",
       "\n",
       "    .dataframe thead th {\n",
       "        text-align: right;\n",
       "    }\n",
       "</style>\n",
       "<table border=\"1\" class=\"dataframe\">\n",
       "  <thead>\n",
       "    <tr style=\"text-align: right;\">\n",
       "      <th></th>\n",
       "      <th>reviewText</th>\n",
       "      <th>overall</th>\n",
       "    </tr>\n",
       "  </thead>\n",
       "  <tbody>\n",
       "    <tr>\n",
       "      <th>0</th>\n",
       "      <td>This was a gift for my other husband.  He's ma...</td>\n",
       "      <td>5</td>\n",
       "    </tr>\n",
       "    <tr>\n",
       "      <th>1</th>\n",
       "      <td>My husband rarely asks for anything specific, ...</td>\n",
       "      <td>5</td>\n",
       "    </tr>\n",
       "    <tr>\n",
       "      <th>2</th>\n",
       "      <td>This guy knows his stuff. I love the seriously...</td>\n",
       "      <td>5</td>\n",
       "    </tr>\n",
       "    <tr>\n",
       "      <th>3</th>\n",
       "      <td>THIS CAN BE FOUND AT: [...] FOR $19.99, also a...</td>\n",
       "      <td>5</td>\n",
       "    </tr>\n",
       "    <tr>\n",
       "      <th>4</th>\n",
       "      <td>Quite good particularly for inspiration (DVD g...</td>\n",
       "      <td>5</td>\n",
       "    </tr>\n",
       "  </tbody>\n",
       "</table>\n",
       "</div>"
      ],
      "text/plain": [
       "                                          reviewText  overall\n",
       "0  This was a gift for my other husband.  He's ma...        5\n",
       "1  My husband rarely asks for anything specific, ...        5\n",
       "2  This guy knows his stuff. I love the seriously...        5\n",
       "3  THIS CAN BE FOUND AT: [...] FOR $19.99, also a...        5\n",
       "4  Quite good particularly for inspiration (DVD g...        5"
      ]
     },
     "execution_count": 16,
     "metadata": {},
     "output_type": "execute_result"
    }
   ],
   "source": [
    "data_patio_lawn_garden = pd.read_json('data/reviews_Patio_Lawn_and_Garden.json', lines =True)\n",
    "data_patio_lawn_garden[['reviewText', 'overall']].head()"
   ]
  },
  {
   "cell_type": "code",
   "execution_count": 17,
   "id": "1a5ff88f-a0a7-4066-aed4-a3edaa9afa3f",
   "metadata": {},
   "outputs": [],
   "source": [
    "lemmatizer = WordNetLemmatizer()\n",
    "data_patio_lawn_garden['cleaned_review_text'] = data_patio_lawn_garden['reviewText'].apply(\\\n",
    "lambda x : ' '.join([lemmatizer.lemmatize(word.lower()) \\\n",
    "    for word in word_tokenize(re.sub(r'([^\\s\\w]|_)+', ' ', str(x)))]))"
   ]
  },
  {
   "cell_type": "code",
   "execution_count": 18,
   "id": "6c927cf0-b152-4dd8-915a-516037de08bd",
   "metadata": {},
   "outputs": [
    {
     "data": {
      "text/html": [
       "<div>\n",
       "<style scoped>\n",
       "    .dataframe tbody tr th:only-of-type {\n",
       "        vertical-align: middle;\n",
       "    }\n",
       "\n",
       "    .dataframe tbody tr th {\n",
       "        vertical-align: top;\n",
       "    }\n",
       "\n",
       "    .dataframe thead th {\n",
       "        text-align: right;\n",
       "    }\n",
       "</style>\n",
       "<table border=\"1\" class=\"dataframe\">\n",
       "  <thead>\n",
       "    <tr style=\"text-align: right;\">\n",
       "      <th></th>\n",
       "      <th>cleaned_review_text</th>\n",
       "      <th>reviewText</th>\n",
       "      <th>overall</th>\n",
       "    </tr>\n",
       "  </thead>\n",
       "  <tbody>\n",
       "    <tr>\n",
       "      <th>0</th>\n",
       "      <td>this wa a gift for my other husband he s makin...</td>\n",
       "      <td>This was a gift for my other husband.  He's ma...</td>\n",
       "      <td>5</td>\n",
       "    </tr>\n",
       "    <tr>\n",
       "      <th>1</th>\n",
       "      <td>my husband rarely asks for anything specific b...</td>\n",
       "      <td>My husband rarely asks for anything specific, ...</td>\n",
       "      <td>5</td>\n",
       "    </tr>\n",
       "    <tr>\n",
       "      <th>2</th>\n",
       "      <td>this guy know his stuff i love the seriously s...</td>\n",
       "      <td>This guy knows his stuff. I love the seriously...</td>\n",
       "      <td>5</td>\n",
       "    </tr>\n",
       "    <tr>\n",
       "      <th>3</th>\n",
       "      <td>this can be found at for 19 99 also an issue i...</td>\n",
       "      <td>THIS CAN BE FOUND AT: [...] FOR $19.99, also a...</td>\n",
       "      <td>5</td>\n",
       "    </tr>\n",
       "    <tr>\n",
       "      <th>4</th>\n",
       "      <td>quite good particularly for inspiration dvd gi...</td>\n",
       "      <td>Quite good particularly for inspiration (DVD g...</td>\n",
       "      <td>5</td>\n",
       "    </tr>\n",
       "  </tbody>\n",
       "</table>\n",
       "</div>"
      ],
      "text/plain": [
       "                                 cleaned_review_text  \\\n",
       "0  this wa a gift for my other husband he s makin...   \n",
       "1  my husband rarely asks for anything specific b...   \n",
       "2  this guy know his stuff i love the seriously s...   \n",
       "3  this can be found at for 19 99 also an issue i...   \n",
       "4  quite good particularly for inspiration dvd gi...   \n",
       "\n",
       "                                          reviewText  overall  \n",
       "0  This was a gift for my other husband.  He's ma...        5  \n",
       "1  My husband rarely asks for anything specific, ...        5  \n",
       "2  This guy knows his stuff. I love the seriously...        5  \n",
       "3  THIS CAN BE FOUND AT: [...] FOR $19.99, also a...        5  \n",
       "4  Quite good particularly for inspiration (DVD g...        5  "
      ]
     },
     "execution_count": 18,
     "metadata": {},
     "output_type": "execute_result"
    }
   ],
   "source": [
    "data_patio_lawn_garden[['cleaned_review_text', 'reviewText', 'overall']].head()"
   ]
  },
  {
   "cell_type": "code",
   "execution_count": 19,
   "id": "b566c72b-ee94-4d0d-9cbf-a4825888a0aa",
   "metadata": {},
   "outputs": [
    {
     "data": {
      "text/html": [
       "<div>\n",
       "<style scoped>\n",
       "    .dataframe tbody tr th:only-of-type {\n",
       "        vertical-align: middle;\n",
       "    }\n",
       "\n",
       "    .dataframe tbody tr th {\n",
       "        vertical-align: top;\n",
       "    }\n",
       "\n",
       "    .dataframe thead th {\n",
       "        text-align: right;\n",
       "    }\n",
       "</style>\n",
       "<table border=\"1\" class=\"dataframe\">\n",
       "  <thead>\n",
       "    <tr style=\"text-align: right;\">\n",
       "      <th></th>\n",
       "      <th>10</th>\n",
       "      <th>12</th>\n",
       "      <th>15</th>\n",
       "      <th>20</th>\n",
       "      <th>30</th>\n",
       "      <th>34</th>\n",
       "      <th>able</th>\n",
       "      <th>about</th>\n",
       "      <th>actually</th>\n",
       "      <th>add</th>\n",
       "      <th>...</th>\n",
       "      <th>work</th>\n",
       "      <th>worked</th>\n",
       "      <th>working</th>\n",
       "      <th>worth</th>\n",
       "      <th>would</th>\n",
       "      <th>yard</th>\n",
       "      <th>year</th>\n",
       "      <th>yet</th>\n",
       "      <th>you</th>\n",
       "      <th>your</th>\n",
       "    </tr>\n",
       "  </thead>\n",
       "  <tbody>\n",
       "    <tr>\n",
       "      <th>0</th>\n",
       "      <td>0.00000</td>\n",
       "      <td>0.0</td>\n",
       "      <td>0.0</td>\n",
       "      <td>0.000000</td>\n",
       "      <td>0.0</td>\n",
       "      <td>0.0</td>\n",
       "      <td>0.0</td>\n",
       "      <td>0.095185</td>\n",
       "      <td>0.0</td>\n",
       "      <td>0.0</td>\n",
       "      <td>...</td>\n",
       "      <td>0.0</td>\n",
       "      <td>0.0</td>\n",
       "      <td>0.0</td>\n",
       "      <td>0.000000</td>\n",
       "      <td>0.0</td>\n",
       "      <td>0.0</td>\n",
       "      <td>0.0</td>\n",
       "      <td>0.0</td>\n",
       "      <td>0.076392</td>\n",
       "      <td>0.0</td>\n",
       "    </tr>\n",
       "    <tr>\n",
       "      <th>1</th>\n",
       "      <td>0.00000</td>\n",
       "      <td>0.0</td>\n",
       "      <td>0.0</td>\n",
       "      <td>0.000000</td>\n",
       "      <td>0.0</td>\n",
       "      <td>0.0</td>\n",
       "      <td>0.0</td>\n",
       "      <td>0.000000</td>\n",
       "      <td>0.0</td>\n",
       "      <td>0.0</td>\n",
       "      <td>...</td>\n",
       "      <td>0.0</td>\n",
       "      <td>0.0</td>\n",
       "      <td>0.0</td>\n",
       "      <td>0.000000</td>\n",
       "      <td>0.0</td>\n",
       "      <td>0.0</td>\n",
       "      <td>0.0</td>\n",
       "      <td>0.0</td>\n",
       "      <td>0.000000</td>\n",
       "      <td>0.0</td>\n",
       "    </tr>\n",
       "    <tr>\n",
       "      <th>2</th>\n",
       "      <td>0.00000</td>\n",
       "      <td>0.0</td>\n",
       "      <td>0.0</td>\n",
       "      <td>0.000000</td>\n",
       "      <td>0.0</td>\n",
       "      <td>0.0</td>\n",
       "      <td>0.0</td>\n",
       "      <td>0.000000</td>\n",
       "      <td>0.0</td>\n",
       "      <td>0.0</td>\n",
       "      <td>...</td>\n",
       "      <td>0.0</td>\n",
       "      <td>0.0</td>\n",
       "      <td>0.0</td>\n",
       "      <td>0.000000</td>\n",
       "      <td>0.0</td>\n",
       "      <td>0.0</td>\n",
       "      <td>0.0</td>\n",
       "      <td>0.0</td>\n",
       "      <td>0.000000</td>\n",
       "      <td>0.0</td>\n",
       "    </tr>\n",
       "    <tr>\n",
       "      <th>3</th>\n",
       "      <td>0.18812</td>\n",
       "      <td>0.0</td>\n",
       "      <td>0.0</td>\n",
       "      <td>0.205174</td>\n",
       "      <td>0.0</td>\n",
       "      <td>0.0</td>\n",
       "      <td>0.0</td>\n",
       "      <td>0.000000</td>\n",
       "      <td>0.0</td>\n",
       "      <td>0.0</td>\n",
       "      <td>...</td>\n",
       "      <td>0.0</td>\n",
       "      <td>0.0</td>\n",
       "      <td>0.0</td>\n",
       "      <td>0.185652</td>\n",
       "      <td>0.0</td>\n",
       "      <td>0.0</td>\n",
       "      <td>0.0</td>\n",
       "      <td>0.0</td>\n",
       "      <td>0.207186</td>\n",
       "      <td>0.0</td>\n",
       "    </tr>\n",
       "    <tr>\n",
       "      <th>4</th>\n",
       "      <td>0.00000</td>\n",
       "      <td>0.0</td>\n",
       "      <td>0.0</td>\n",
       "      <td>0.000000</td>\n",
       "      <td>0.0</td>\n",
       "      <td>0.0</td>\n",
       "      <td>0.0</td>\n",
       "      <td>0.000000</td>\n",
       "      <td>0.0</td>\n",
       "      <td>0.0</td>\n",
       "      <td>...</td>\n",
       "      <td>0.0</td>\n",
       "      <td>0.0</td>\n",
       "      <td>0.0</td>\n",
       "      <td>0.000000</td>\n",
       "      <td>0.0</td>\n",
       "      <td>0.0</td>\n",
       "      <td>0.0</td>\n",
       "      <td>0.0</td>\n",
       "      <td>0.000000</td>\n",
       "      <td>0.0</td>\n",
       "    </tr>\n",
       "  </tbody>\n",
       "</table>\n",
       "<p>5 rows × 500 columns</p>\n",
       "</div>"
      ],
      "text/plain": [
       "        10   12   15        20   30   34  able     about  actually  add  ...  \\\n",
       "0  0.00000  0.0  0.0  0.000000  0.0  0.0   0.0  0.095185       0.0  0.0  ...   \n",
       "1  0.00000  0.0  0.0  0.000000  0.0  0.0   0.0  0.000000       0.0  0.0  ...   \n",
       "2  0.00000  0.0  0.0  0.000000  0.0  0.0   0.0  0.000000       0.0  0.0  ...   \n",
       "3  0.18812  0.0  0.0  0.205174  0.0  0.0   0.0  0.000000       0.0  0.0  ...   \n",
       "4  0.00000  0.0  0.0  0.000000  0.0  0.0   0.0  0.000000       0.0  0.0  ...   \n",
       "\n",
       "   work  worked  working     worth  would  yard  year  yet       you  your  \n",
       "0   0.0     0.0      0.0  0.000000    0.0   0.0   0.0  0.0  0.076392   0.0  \n",
       "1   0.0     0.0      0.0  0.000000    0.0   0.0   0.0  0.0  0.000000   0.0  \n",
       "2   0.0     0.0      0.0  0.000000    0.0   0.0   0.0  0.0  0.000000   0.0  \n",
       "3   0.0     0.0      0.0  0.185652    0.0   0.0   0.0  0.0  0.207186   0.0  \n",
       "4   0.0     0.0      0.0  0.000000    0.0   0.0   0.0  0.0  0.000000   0.0  \n",
       "\n",
       "[5 rows x 500 columns]"
      ]
     },
     "execution_count": 19,
     "metadata": {},
     "output_type": "execute_result"
    }
   ],
   "source": [
    "tfidf_model = TfidfVectorizer(max_features=500)\n",
    "tfidf_df = pd.DataFrame(tfidf_model.fit_transform(data_patio_lawn_garden['cleaned_review_text']).todense())\n",
    "tfidf_df.columns = sorted(tfidf_model.vocabulary_)\n",
    "tfidf_df.head()"
   ]
  },
  {
   "cell_type": "code",
   "execution_count": 20,
   "id": "d7457925-903c-4e82-93b0-96d2532119f8",
   "metadata": {},
   "outputs": [],
   "source": [
    "data_patio_lawn_garden['target']=data_patio_lawn_garden['overall'].apply(lambda x : 0 if x<=4 else 1)"
   ]
  },
  {
   "cell_type": "code",
   "execution_count": 21,
   "id": "ca102d96-68d1-48e9-8baa-16eb35dc92be",
   "metadata": {},
   "outputs": [
    {
     "data": {
      "text/plain": [
       "1    561123\n",
       "0    432367\n",
       "Name: target, dtype: int64"
      ]
     },
     "execution_count": 21,
     "metadata": {},
     "output_type": "execute_result"
    }
   ],
   "source": [
    "data_patio_lawn_garden['target'].value_counts()"
   ]
  },
  {
   "cell_type": "code",
   "execution_count": 22,
   "id": "3af31527-f387-4f97-b283-88dc38bed22b",
   "metadata": {},
   "outputs": [],
   "source": [
    "def clf_model(model_type, X_train, y):\n",
    "    model = model_type.fit(X_train,y)\n",
    "    predicted_labels = model.predict(tfidf_df)\n",
    "    return predicted_labels"
   ]
  },
  {
   "cell_type": "code",
   "execution_count": 23,
   "id": "904aa073-9cd1-4fd2-a857-ce3c5c540d66",
   "metadata": {},
   "outputs": [],
   "source": [
    "from xgboost import XGBClassifier"
   ]
  },
  {
   "cell_type": "code",
   "execution_count": 24,
   "id": "c566dce2-e2c8-423e-aaeb-d5f57b403dff",
   "metadata": {},
   "outputs": [],
   "source": [
    "xgb_clf=XGBClassifier(n_estimators=20,\n",
    "                     learning_rate=0.03,\n",
    "                     max_depth=5,\n",
    "                     subsample=0.6,\n",
    "                     colsample_bytree=0.6,\n",
    "                     reg_alpha=10,\n",
    "                     seed=42)"
   ]
  },
  {
   "cell_type": "code",
   "execution_count": 25,
   "id": "d51c779e-0e5e-413a-a93a-f19979c70d34",
   "metadata": {},
   "outputs": [
    {
     "name": "stdout",
     "output_type": "stream",
     "text": [
      "[06:52:48] WARNING: C:\\Windows\\Temp\\abs_557yfx631l\\croots\\recipe\\xgboost-split_1659548953302\\work\\src\\learner.cc:1115: Starting in XGBoost 1.3.0, the default evaluation metric used with the objective 'binary:logistic' was changed from 'error' to 'logloss'. Explicitly set eval_metric if you'd like to restore the old behavior.\n"
     ]
    }
   ],
   "source": [
    "data_patio_lawn_garden['predicted_labels_xgbc'] = clf_model(xgb_clf, tfidf_df, data_patio_lawn_garden['target'])                                                        "
   ]
  },
  {
   "cell_type": "code",
   "execution_count": 26,
   "id": "eef89957-e678-48ec-9a91-a6a955b81125",
   "metadata": {},
   "outputs": [
    {
     "data": {
      "text/html": [
       "<div>\n",
       "<style scoped>\n",
       "    .dataframe tbody tr th:only-of-type {\n",
       "        vertical-align: middle;\n",
       "    }\n",
       "\n",
       "    .dataframe tbody tr th {\n",
       "        vertical-align: top;\n",
       "    }\n",
       "\n",
       "    .dataframe thead th {\n",
       "        text-align: right;\n",
       "    }\n",
       "</style>\n",
       "<table border=\"1\" class=\"dataframe\">\n",
       "  <thead>\n",
       "    <tr style=\"text-align: right;\">\n",
       "      <th>predicted_labels_xgbc</th>\n",
       "      <th>0</th>\n",
       "      <th>1</th>\n",
       "    </tr>\n",
       "    <tr>\n",
       "      <th>target</th>\n",
       "      <th></th>\n",
       "      <th></th>\n",
       "    </tr>\n",
       "  </thead>\n",
       "  <tbody>\n",
       "    <tr>\n",
       "      <th>0</th>\n",
       "      <td>254928</td>\n",
       "      <td>177439</td>\n",
       "    </tr>\n",
       "    <tr>\n",
       "      <th>1</th>\n",
       "      <td>119661</td>\n",
       "      <td>441462</td>\n",
       "    </tr>\n",
       "  </tbody>\n",
       "</table>\n",
       "</div>"
      ],
      "text/plain": [
       "predicted_labels_xgbc       0       1\n",
       "target                               \n",
       "0                      254928  177439\n",
       "1                      119661  441462"
      ]
     },
     "execution_count": 26,
     "metadata": {},
     "output_type": "execute_result"
    }
   ],
   "source": [
    "pd.crosstab(data_patio_lawn_garden['target'], data_patio_lawn_garden['predicted_labels_xgbc'])"
   ]
  },
  {
   "cell_type": "code",
   "execution_count": 27,
   "id": "ab57efe6-85e9-4dc5-bbce-a3e453ae77e1",
   "metadata": {},
   "outputs": [],
   "source": [
    "def reg_model(model_type, X_train, y):\n",
    "    model = model_type.fit(X_train, y)\n",
    "    predicted_values = model.predict(tfidf_df)\n",
    "    return predicted_values"
   ]
  },
  {
   "cell_type": "code",
   "execution_count": 28,
   "id": "3455c47b-bbbc-4dba-843c-e4793a3e3419",
   "metadata": {},
   "outputs": [],
   "source": [
    "from xgboost import XGBRegressor\n",
    "xgbr = XGBRegressor(n_estimators=20,\n",
    "                     learning_rate=0.03,\n",
    "                     max_depth=5,\n",
    "                     subsample=0.6,\n",
    "                     colsample_bytree=0.6,\n",
    "                     reg_alpha=10,\n",
    "                     seed=42)"
   ]
  },
  {
   "cell_type": "code",
   "execution_count": 29,
   "id": "5cda50f2-254a-4a0f-80cc-8337437cff86",
   "metadata": {},
   "outputs": [],
   "source": [
    "data_patio_lawn_garden['predicted_values_xgbr'] = reg_model(xgbr, tfidf_df, data_patio_lawn_garden['overall'])"
   ]
  },
  {
   "cell_type": "code",
   "execution_count": 30,
   "id": "3a106aff-bd2a-4af1-ae67-b7daa6afb31a",
   "metadata": {},
   "outputs": [
    {
     "data": {
      "text/html": [
       "<div>\n",
       "<style scoped>\n",
       "    .dataframe tbody tr th:only-of-type {\n",
       "        vertical-align: middle;\n",
       "    }\n",
       "\n",
       "    .dataframe tbody tr th {\n",
       "        vertical-align: top;\n",
       "    }\n",
       "\n",
       "    .dataframe thead th {\n",
       "        text-align: right;\n",
       "    }\n",
       "</style>\n",
       "<table border=\"1\" class=\"dataframe\">\n",
       "  <thead>\n",
       "    <tr style=\"text-align: right;\">\n",
       "      <th></th>\n",
       "      <th>overall</th>\n",
       "      <th>predicted_values_xgbr</th>\n",
       "    </tr>\n",
       "  </thead>\n",
       "  <tbody>\n",
       "    <tr>\n",
       "      <th>0</th>\n",
       "      <td>5</td>\n",
       "      <td>2.398897</td>\n",
       "    </tr>\n",
       "    <tr>\n",
       "      <th>1</th>\n",
       "      <td>5</td>\n",
       "      <td>2.123649</td>\n",
       "    </tr>\n",
       "  </tbody>\n",
       "</table>\n",
       "</div>"
      ],
      "text/plain": [
       "   overall  predicted_values_xgbr\n",
       "0        5               2.398897\n",
       "1        5               2.123649"
      ]
     },
     "execution_count": 30,
     "metadata": {},
     "output_type": "execute_result"
    }
   ],
   "source": [
    "data_patio_lawn_garden[['overall', 'predicted_values_xgbr']].head(2)"
   ]
  },
  {
   "cell_type": "code",
   "execution_count": null,
   "id": "54ab67d5-9fa1-4c1e-9a5a-f559bc1e9e63",
   "metadata": {},
   "outputs": [],
   "source": []
  }
 ],
 "metadata": {
  "kernelspec": {
   "display_name": "Python [conda env:py37]",
   "language": "python",
   "name": "conda-env-py37-py"
  },
  "language_info": {
   "codemirror_mode": {
    "name": "ipython",
    "version": 3
   },
   "file_extension": ".py",
   "mimetype": "text/x-python",
   "name": "python",
   "nbconvert_exporter": "python",
   "pygments_lexer": "ipython3",
   "version": "3.7.0"
  }
 },
 "nbformat": 4,
 "nbformat_minor": 5
}
